{
  "nbformat": 4,
  "nbformat_minor": 0,
  "metadata": {
    "colab": {
      "provenance": [],
      "include_colab_link": true
    },
    "kernelspec": {
      "name": "python3",
      "display_name": "Python 3"
    }
  },
  "cells": [
    {
      "cell_type": "markdown",
      "metadata": {
        "id": "view-in-github",
        "colab_type": "text"
      },
      "source": [
        "<a href=\"https://colab.research.google.com/github/jjain0811/Comprehensive-Survey-on-Techniques-of-Topic-Evolution-Mining/blob/main/FPGrowth_Twitter.ipynb\" target=\"_parent\"><img src=\"https://colab.research.google.com/assets/colab-badge.svg\" alt=\"Open In Colab\"/></a>"
      ]
    },
    {
      "cell_type": "code",
      "metadata": {
        "colab": {
          "base_uri": "https://localhost:8080/"
        },
        "id": "RBSWWacQ5apj",
        "outputId": "173fcd51-0cb9-49bf-eb81-9da3afda56e8"
      },
      "source": [
        "from google.colab import drive\n",
        "drive.mount('/content/drive')"
      ],
      "execution_count": null,
      "outputs": [
        {
          "output_type": "stream",
          "text": [
            "Mounted at /content/drive\n"
          ],
          "name": "stdout"
        }
      ]
    },
    {
      "cell_type": "code",
      "metadata": {
        "id": "G4JEl1Rh6M-c"
      },
      "source": [
        "import os\n",
        "os.chdir(\"/content/drive/My Drive/Research Project 20-21/Datasets/Pulwama Original Tweets\")"
      ],
      "execution_count": null,
      "outputs": []
    },
    {
      "cell_type": "code",
      "metadata": {
        "id": "v1J_WZoL6Rcp"
      },
      "source": [
        "import json\n",
        "user_data = {}\n",
        "for j in range(1,15):\n",
        "  f = open(\"pulwama\"+ str(j) +\".json\")\n",
        "  data = json.load(f)\n",
        "  for i in data:\n",
        "    try:\n",
        "      ht = []\n",
        "      um = []\n",
        "      if j not in user_data[i[\"user\"][\"id\"][\"events\"]]:\n",
        "        print(j)\n",
        "        user_data[i[\"user\"][\"id\"][\"events\"]].append(j)\n",
        "      for h in i[\"entities\"][\"hashtags\"]:\n",
        "        ht.append(h[\"text\"])\n",
        "      for u in i[\"entities\"][\"user_mentions\"]:\n",
        "        um.append({\"name\": u[\"name\"], \"screen_name\":u[\"screen_name\"], \"id\" : u[\"id\"]})\n",
        "      tweet = {\n",
        "          \"created_at\" : i[\"created_at\"],\n",
        "          \"tweet_id\" : i[\"id\"],\n",
        "          \"text\" : i[\"text\"],\n",
        "          \"hashtags\" : ht,\n",
        "          \"user_mentions\": um,\n",
        "          \"retweet_count\":i[\"retweet_count\"],\n",
        "          \"likes\":i[\"favorite_count\"],\n",
        "          }\n",
        "      user_data[i[\"user\"][\"id\"]][\"tweets\"].append(tweet)\n",
        "    except:\n",
        "      dicti = {}\n",
        "      dicti[\"name\"] = i[\"user\"][\"name\"]\n",
        "      dicti[\"desc\"] = i[\"user\"][\"description\"]\n",
        "      dicti[\"followers\"] = i[\"user\"][\"followers_count\"]\n",
        "      dicti[\"friends\"] = i[\"user\"][\"friends_count\"]\n",
        "      dicti[\"created_at\"] = i[\"user\"][\"created_at\"]\n",
        "      dicti[\"favourites_count\"] = i[\"user\"][\"favourites_count\"]\n",
        "      dicti[\"location\"] = i[\"user\"][\"location\"]\n",
        "      dicti[\"verified\"] = i[\"user\"][\"verified\"]\n",
        "      ht = []\n",
        "      um = []\n",
        "      # dicti[\"events\"] = [j]\n",
        "      for h in i[\"entities\"][\"hashtags\"]:\n",
        "        ht.append(h[\"text\"])\n",
        "      for u in i[\"entities\"][\"user_mentions\"]:\n",
        "        um.append({\"name\": u[\"name\"], \"screen_name\":u[\"screen_name\"], \"id\" : u[\"id\"]})\n",
        "\n",
        "      dicti[\"tweets\"] = [{\n",
        "          \"created_at\" : i[\"created_at\"],\n",
        "          \"tweet_id\" : i[\"id\"],\n",
        "          \"text\" : i[\"text\"],\n",
        "          \"hashtags\" : ht,\n",
        "          \"user_mentions\": um,\n",
        "          \"retweet_count\":i[\"retweet_count\"],\n",
        "          \"likes\":i[\"favorite_count\"]\n",
        "          }]\n",
        "\n",
        "      user_data[i[\"user\"][\"id\"]] = dicti\n",
        "  f.close()"
      ],
      "execution_count": null,
      "outputs": []
    },
    {
      "cell_type": "code",
      "metadata": {
        "colab": {
          "base_uri": "https://localhost:8080/"
        },
        "id": "dyvETHTA6zjP",
        "outputId": "28292aa7-fcb7-4ae3-8a72-6ee4b5a529da"
      },
      "source": [
        "len(user_data)"
      ],
      "execution_count": null,
      "outputs": [
        {
          "output_type": "execute_result",
          "data": {
            "text/plain": [
              "142713"
            ]
          },
          "metadata": {
            "tags": []
          },
          "execution_count": 6
        }
      ]
    },
    {
      "cell_type": "code",
      "metadata": {
        "colab": {
          "base_uri": "https://localhost:8080/"
        },
        "id": "RSqusPCf7OKS",
        "outputId": "d5d55c1d-c9df-42d6-c372-339ef33abcc8"
      },
      "source": [
        "lent = 0\n",
        "for j in range(1,15):\n",
        "  f = open(\"pulwama\"+ str(j) +\".json\")\n",
        "  data = json.load(f)\n",
        "  lent+= len(data)\n",
        "  f.close()\n",
        "print(lent)"
      ],
      "execution_count": null,
      "outputs": [
        {
          "output_type": "stream",
          "text": [
            "278817\n"
          ],
          "name": "stdout"
        }
      ]
    },
    {
      "cell_type": "code",
      "metadata": {
        "id": "ZmZlgZ277fL1"
      },
      "source": [
        "import json\n",
        "ht= []\n",
        "basket = []\n",
        "for j in range(1,15):\n",
        "  f = open(\"pulwama\"+ str(j) +\".json\")\n",
        "  data = json.load(f)\n",
        "  for i in data:\n",
        "    # try:\n",
        "      # ht = []\n",
        "      # um = []\n",
        "      # if j not in user_data[i[\"user\"][\"id\"][\"events\"]]:\n",
        "      #   print(j)\n",
        "      #   user_data[i[\"user\"][\"id\"][\"events\"]].append(j)\n",
        "      # for h in i[\"entities\"][\"hashtags\"]:\n",
        "      #   ht.append(h[\"text\"])\n",
        "      # for u in i[\"entities\"][\"user_mentions\"]:\n",
        "      #   um.append({\"name\": u[\"name\"], \"screen_name\":u[\"screen_name\"], \"id\" : u[\"id\"]})\n",
        "      # tweet = {\n",
        "      #     \"created_at\" : i[\"created_at\"],\n",
        "      #     \"tweet_id\" : i[\"id\"],\n",
        "      #     \"text\" : i[\"text\"],\n",
        "      #     \"hashtags\" : ht,\n",
        "      #     \"user_mentions\": um,\n",
        "      #     \"retweet_count\":i[\"retweet_count\"],\n",
        "      #     \"likes\":i[\"favorite_count\"],\n",
        "      #     }\n",
        "      # user_data[i[\"user\"][\"id\"]][\"tweets\"].append(tweet)\n",
        "    b = []\n",
        "    for h in i[\"entities\"][\"hashtags\"]:\n",
        "      ht.append(h[\"text\"])\n",
        "      b.append(h[\"text\"])\n",
        "    if len(b)>1:\n",
        "      basket.append(b)\n",
        "    # except:\n",
        "    #   dicti = {}\n",
        "    #   dicti[\"name\"] = i[\"user\"][\"name\"]\n",
        "    #   dicti[\"desc\"] = i[\"user\"][\"description\"]\n",
        "    #   dicti[\"followers\"] = i[\"user\"][\"followers_count\"]\n",
        "    #   dicti[\"friends\"] = i[\"user\"][\"friends_count\"]\n",
        "    #   dicti[\"created_at\"] = i[\"user\"][\"created_at\"]\n",
        "    #   dicti[\"favourites_count\"] = i[\"user\"][\"favourites_count\"]\n",
        "    #   dicti[\"location\"] = i[\"user\"][\"location\"]\n",
        "    #   dicti[\"verified\"] = i[\"user\"][\"verified\"]\n",
        "    #   ht = []\n",
        "    #   um = []\n",
        "    #   # dicti[\"events\"] = [j]\n",
        "    #   for h in i[\"entities\"][\"hashtags\"]:\n",
        "    #     ht.append(h[\"text\"])\n",
        "    #   for u in i[\"entities\"][\"user_mentions\"]:\n",
        "    #     um.append({\"name\": u[\"name\"], \"screen_name\":u[\"screen_name\"], \"id\" : u[\"id\"]})\n",
        "\n",
        "    #   dicti[\"tweets\"] = [{\n",
        "    #       \"created_at\" : i[\"created_at\"],\n",
        "    #       \"tweet_id\" : i[\"id\"],\n",
        "    #       \"text\" : i[\"text\"],\n",
        "    #       \"hashtags\" : ht,\n",
        "    #       \"user_mentions\": um,\n",
        "    #       \"retweet_count\":i[\"retweet_count\"],\n",
        "    #       \"likes\":i[\"favorite_count\"]\n",
        "    #       }]\n",
        "\n",
        "    #   user_data[i[\"user\"][\"id\"]] = dicti\n",
        "  f.close()"
      ],
      "execution_count": null,
      "outputs": []
    },
    {
      "cell_type": "code",
      "metadata": {
        "colab": {
          "base_uri": "https://localhost:8080/"
        },
        "id": "zkEMri4UIKaI",
        "outputId": "704fa93a-37c0-4ca5-e3a1-fe2f8defaf26"
      },
      "source": [
        "!pip install pyfpgrowth"
      ],
      "execution_count": null,
      "outputs": [
        {
          "output_type": "stream",
          "text": [
            "Collecting pyfpgrowth\n",
            "\u001b[?25l  Downloading https://files.pythonhosted.org/packages/d2/4c/8b7cd90b4118ff0286d6584909b99e1ca5642bdc9072fa5a8dd361c864a0/pyfpgrowth-1.0.tar.gz (1.6MB)\n",
            "\u001b[K     |████████████████████████████████| 1.6MB 4.0MB/s \n",
            "\u001b[?25hBuilding wheels for collected packages: pyfpgrowth\n",
            "  Building wheel for pyfpgrowth (setup.py) ... \u001b[?25l\u001b[?25hdone\n",
            "  Created wheel for pyfpgrowth: filename=pyfpgrowth-1.0-py2.py3-none-any.whl size=5477 sha256=be7dd8014e6ae7b37cdf885c002d2130c016d89fb31f2a098482b42b024bcbf1\n",
            "  Stored in directory: /root/.cache/pip/wheels/3b/3f/0d/a04bb8b17887c1eca7d0f1a48d4aa0c09c96eb221ff7fa56c1\n",
            "Successfully built pyfpgrowth\n",
            "Installing collected packages: pyfpgrowth\n",
            "Successfully installed pyfpgrowth-1.0\n"
          ],
          "name": "stdout"
        }
      ]
    },
    {
      "cell_type": "code",
      "metadata": {
        "colab": {
          "base_uri": "https://localhost:8080/"
        },
        "id": "y-SKn4N1IrK9",
        "outputId": "74cd2cad-336c-4a0e-bf39-8f51f4c4e3fd"
      },
      "source": [
        "import pyfpgrowth\n",
        "patterns = pyfpgrowth.find_frequent_patterns(basket, len(basket)*0.01)\n",
        "\n",
        "rules = pyfpgrowth.generate_association_rules(patterns, 0.4)\n",
        "patterns"
      ],
      "execution_count": null,
      "outputs": [
        {
          "output_type": "execute_result",
          "data": {
            "text/plain": [
              "{('AbhiNandan',): 531,\n",
              " ('AbhinanadanVarthaman',): 1605,\n",
              " ('AbhinanadanVarthaman', 'AbhinandanReturns'): 697,\n",
              " ('AbhinanadanVarthaman', 'AbhinandanReturns', 'WelcomebackAbhinanadan'): 635,\n",
              " ('AbhinanadanVarthaman', 'WelcomebackAbhinanadan'): 639,\n",
              " ('Abhinandan',): 6714,\n",
              " ('Abhinandan', 'AbhinandanReturns'): 566,\n",
              " ('Abhinandan', 'BringBackAbhinandan'): 956,\n",
              " ('Abhinandan', 'BringBackAbhinandan', 'SayNoToWar'): 768,\n",
              " ('Abhinandan', 'SayNoToWar'): 3144,\n",
              " ('Abhinandan', 'WelcomeBackAbhinandan'): 597,\n",
              " ('Abhinandan', 'WelcomeHomeAbhinandan'): 663,\n",
              " ('AbhinandanReturns',): 3159,\n",
              " ('AbhinandanReturns', 'WelcomeHomeAbhinandan'): 670,\n",
              " ('AbhinandanReturns', 'WelcomebackAbhinanadan'): 650,\n",
              " ('AbhinandanVarthaman',): 1332,\n",
              " ('Abhinandancomingback',): 525,\n",
              " ('Balakot',): 825,\n",
              " ('BringBackAbhinandan', 'SayNoToWar'): 1914,\n",
              " ('CRPF',): 2736,\n",
              " ('CRPF', 'Pulwama'): 2350,\n",
              " ('CRPFJawans',): 963,\n",
              " ('CRPFJawans', 'Pulwama'): 811,\n",
              " ('GaddarList',): 547,\n",
              " ('GoBackModi',): 837,\n",
              " ('GoBackModi', 'WelcomeBackAbhinandan'): 570,\n",
              " ('IAF',): 547,\n",
              " ('India', 'Kashmir'): 688,\n",
              " ('India', 'Pakistan'): 1509,\n",
              " ('India', 'SayNoToWar'): 824,\n",
              " ('IndianAirForce',): 547,\n",
              " ('JaiHind',): 502,\n",
              " ('Kashmir', 'Pakistan'): 512,\n",
              " ('KashmirTerrorAttack',): 1001,\n",
              " ('KashmirTerrorAttack', 'Pulwama'): 911,\n",
              " ('Pakistan',): 3591,\n",
              " ('Pakistan', 'SayNoToWar'): 955,\n",
              " ('PakistanArmyZindabad', 'PakistanStrikesBack'): 588,\n",
              " ('PakistanArmyZindabad', 'SayNoToWar'): 774,\n",
              " ('PakistanLeadsWithPeace',): 522,\n",
              " ('PakistanStrikesBack',): 1749,\n",
              " ('PakistanStrikesBack', 'SayNoToWar'): 1284,\n",
              " ('PakistanZindabad',): 624,\n",
              " ('Peace',): 794,\n",
              " ('Peace', 'SayNoToWar'): 525,\n",
              " ('Pulwama',): 8299,\n",
              " ('Pulwama', 'PulwamaAttack'): 1530,\n",
              " ('Pulwama', 'PulwamaTerrorAttack'): 673,\n",
              " ('PulwamaAttack',): 2484,\n",
              " ('PulwamaTerrorAttack',): 1228,\n",
              " ('RIPBraveHearts',): 562,\n",
              " ('SayNoToTerrorism',): 1196,\n",
              " ('SayNoToTerrorism', 'SayNoToWar'): 1050,\n",
              " ('SayNoToWar',): 15651,\n",
              " ('SayNoToWar', 'SayNoToWar'): 1132,\n",
              " ('SayYesToWar',): 537,\n",
              " ('WelcomeBackAbhinandan',): 4637,\n",
              " ('WelcomeBackAbhinandan', 'WelcomeHomeAbhinandan'): 1060,\n",
              " ('pulwama',): 911,\n",
              " ('pulwama', 'standwithforces'): 509,\n",
              " ('saynotowar',): 654,\n",
              " ('standwithforces',): 516}"
            ]
          },
          "metadata": {
            "tags": []
          },
          "execution_count": 48
        }
      ]
    },
    {
      "cell_type": "code",
      "metadata": {
        "id": "A35ox99QKKe-"
      },
      "source": [
        "dict = {}\n",
        "count = 0\n",
        "for i in rules:\n",
        "  # print(i.lhs)\n",
        "  # print(dict)\n",
        "  stat = False\n",
        "\n",
        "  for word in i:\n",
        "    for key in dict:\n",
        "      # print(word)\n",
        "      # print(dict)\n",
        "\n",
        "      if word.lower() in dict[key]:\n",
        "        # print(\"in lhs\")\n",
        "        for word1 in i:\n",
        "          dict[key].append(word1.lower())\n",
        "        for word1 in rules[i][0]:\n",
        "          dict[key].append(word1.lower())\n",
        "        dict[key] = list(set(dict[key]))\n",
        "        stat = True\n",
        "        break\n",
        "    if stat != True:\n",
        "\n",
        "      for word in rules[i][0]:\n",
        "        for key in dict:\n",
        "          if word.lower() in dict[key]:\n",
        "            # print(\"in rhs\")\n",
        "            # print(word)\n",
        "            for word1 in rules[i][0]:\n",
        "              dict[key].append(word1.lower())\n",
        "            for word1 in i:\n",
        "              dict[key].append(word1.lower())\n",
        "            dict[key] = list(set(dict[key]))\n",
        "            stat = True\n",
        "            break\n",
        "      break\n",
        "    else:\n",
        "      break\n",
        "  if stat != True:\n",
        "    new = []\n",
        "    for word1 in i:\n",
        "      new.append(word1.lower())\n",
        "    for word1 in rules[i][0]:\n",
        "      new.append(word1.lower())\n",
        "    new = list(set(new))\n",
        "    dict[str(count)] = new\n",
        "    count += 1\n"
      ],
      "execution_count": null,
      "outputs": []
    },
    {
      "cell_type": "code",
      "metadata": {
        "colab": {
          "base_uri": "https://localhost:8080/"
        },
        "id": "W5m3eUmNJCyI",
        "outputId": "69ca68e7-cb8a-4c2a-8cd4-550493375e3b"
      },
      "source": [
        "dict"
      ],
      "execution_count": null,
      "outputs": [
        {
          "output_type": "execute_result",
          "data": {
            "text/plain": [
              "{'0': ['crpfjawans',\n",
              "  'kashmirterrorattack',\n",
              "  'pulwama',\n",
              "  'pulwamaattack',\n",
              "  'pulwamaterrorattack',\n",
              "  'crpf',\n",
              "  'standwithforces'],\n",
              " '1': ['abhinanadanvarthaman', 'abhinandanreturns', 'welcomebackabhinanadan'],\n",
              " '2': ['bringbackabhinandan',\n",
              "  'saynototerrorism',\n",
              "  'saynotowar',\n",
              "  'peace',\n",
              "  'pakistanstrikesback',\n",
              "  'abhinandan'],\n",
              " '3': ['gobackmodi', 'welcomebackabhinandan'],\n",
              " '4': ['india', 'pakistan']}"
            ]
          },
          "metadata": {
            "tags": []
          },
          "execution_count": 50
        }
      ]
    },
    {
      "cell_type": "code",
      "metadata": {
        "id": "WEEJHtepO1tE"
      },
      "source": [
        "with open(\"hashtag_clusters_fp.json\",\"w\") as file:\n",
        "  json.dump(dict, file)"
      ],
      "execution_count": null,
      "outputs": []
    },
    {
      "cell_type": "code",
      "metadata": {
        "id": "1me7KyMVO5u8"
      },
      "source": [
        "with open(\"hashtag_clusters_fp.json\",\"r\") as file:\n",
        "  dict= json.load(file)"
      ],
      "execution_count": null,
      "outputs": []
    },
    {
      "cell_type": "code",
      "metadata": {
        "colab": {
          "base_uri": "https://localhost:8080/"
        },
        "id": "aHJvccmGO_oN",
        "outputId": "302b1d14-d7e2-4c3f-9c2a-ea5162bcb754"
      },
      "source": [
        "dict"
      ],
      "execution_count": null,
      "outputs": [
        {
          "output_type": "execute_result",
          "data": {
            "text/plain": [
              "{'0': ['crpfjawans',\n",
              "  'kashmirterrorattack',\n",
              "  'pulwama',\n",
              "  'pulwamaattack',\n",
              "  'pulwamaterrorattack',\n",
              "  'crpf',\n",
              "  'standwithforces'],\n",
              " '1': ['abhinanadanvarthaman', 'abhinandanreturns', 'welcomebackabhinanadan'],\n",
              " '2': ['bringbackabhinandan',\n",
              "  'saynototerrorism',\n",
              "  'saynotowar',\n",
              "  'peace',\n",
              "  'pakistanstrikesback',\n",
              "  'abhinandan'],\n",
              " '3': ['gobackmodi', 'welcomebackabhinandan'],\n",
              " '4': ['india', 'pakistan']}"
            ]
          },
          "metadata": {
            "tags": []
          },
          "execution_count": 53
        }
      ]
    },
    {
      "cell_type": "code",
      "metadata": {
        "id": "mMBRy_AA-a9N",
        "colab": {
          "base_uri": "https://localhost:8080/"
        },
        "outputId": "b345a7fa-7438-40d3-a95f-e9b3fdb81843"
      },
      "source": [
        "!pip install efficient-apriori\n"
      ],
      "execution_count": null,
      "outputs": [
        {
          "output_type": "stream",
          "text": [
            "Collecting efficient-apriori\n",
            "  Downloading https://files.pythonhosted.org/packages/5a/c6/ecdf3a32d23cada466634c649cf4f50fefe76f56eae53ecceff688b306be/efficient_apriori-1.1.1-py3-none-any.whl\n",
            "Installing collected packages: efficient-apriori\n",
            "Successfully installed efficient-apriori-1.1.1\n"
          ],
          "name": "stdout"
        }
      ]
    },
    {
      "cell_type": "code",
      "metadata": {
        "id": "1tRMLkNx_wvG"
      },
      "source": [
        "basket"
      ],
      "execution_count": null,
      "outputs": []
    },
    {
      "cell_type": "code",
      "metadata": {
        "colab": {
          "base_uri": "https://localhost:8080/"
        },
        "id": "9UzPxXwD_H-4",
        "outputId": "0c98a1ef-da7c-48fc-fc06-703f429ccd34"
      },
      "source": [
        "from efficient_apriori import apriori\n",
        "# transactions = [('eggs', 'bacon', 'soup'),\n",
        "#                 ('eggs', 'bacon', 'apple'),\n",
        "#                 ('soup', 'bacon', 'banana')]\n",
        "itemsets, rules = apriori(basket, min_support=0.01, min_confidence=0.5)\n",
        "\n",
        "for rule in rules:\n",
        "  print(rule)"
      ],
      "execution_count": null,
      "outputs": [
        {
          "output_type": "stream",
          "text": [
            "{KashmirTerrorAttack} -> {Pulwama} (conf: 0.906, supp: 0.019, lift: 5.268, conv: 8.800)\n",
            "{PulwamaAttack} -> {Pulwama} (conf: 0.613, supp: 0.032, lift: 3.566, conv: 2.141)\n",
            "{CRPF} -> {Pulwama} (conf: 0.854, supp: 0.048, lift: 4.965, conv: 5.661)\n",
            "{CRPFJawans} -> {Pulwama} (conf: 0.841, supp: 0.017, lift: 4.891, conv: 5.206)\n",
            "{PulwamaTerrorAttack} -> {Pulwama} (conf: 0.540, supp: 0.014, lift: 3.141, conv: 1.801)\n",
            "{India} -> {Pakistan} (conf: 0.616, supp: 0.031, lift: 8.364, conv: 2.411)\n",
            "{Kashmir} -> {India} (conf: 0.568, supp: 0.014, lift: 11.299, conv: 2.199)\n",
            "{standwithforces} -> {pulwama} (conf: 0.986, supp: 0.011, lift: 52.114, conv: 72.319)\n",
            "{pulwama} -> {standwithforces} (conf: 0.559, supp: 0.011, lift: 52.114, conv: 2.242)\n",
            "{BringBackAbhinandan} -> {SayNoToWar} (conf: 0.874, supp: 0.040, lift: 2.845, conv: 5.490)\n",
            "{SayNoToTerrorism} -> {SayNoToWar} (conf: 0.878, supp: 0.022, lift: 2.859, conv: 5.696)\n",
            "{PakistanArmyZindabad} -> {SayNoToWar} (conf: 0.632, supp: 0.016, lift: 2.058, conv: 1.884)\n",
            "{PakistanStrikesBack} -> {SayNoToWar} (conf: 0.735, supp: 0.027, lift: 2.393, conv: 2.615)\n",
            "{Peace} -> {SayNoToWar} (conf: 0.660, supp: 0.011, lift: 2.150, conv: 2.040)\n",
            "{WelcomebackAbhinanadan} -> {AbhinanadanVarthaman} (conf: 0.936, supp: 0.013, lift: 28.409, conv: 15.012)\n",
            "{WelcomebackAbhinanadan} -> {AbhinandanReturns} (conf: 0.952, supp: 0.014, lift: 14.532, conv: 19.342)\n",
            "{GoBackModi} -> {WelcomeBackAbhinandan} (conf: 0.676, supp: 0.011, lift: 7.083, conv: 2.789)\n",
            "{Abhinandan, BringBackAbhinandan} -> {SayNoToWar} (conf: 0.807, supp: 0.016, lift: 2.626, conv: 3.585)\n",
            "{AbhinandanReturns, WelcomebackAbhinanadan} -> {AbhinanadanVarthaman} (conf: 0.977, supp: 0.013, lift: 29.665, conv: 41.906)\n",
            "{AbhinanadanVarthaman, WelcomebackAbhinanadan} -> {AbhinandanReturns} (conf: 0.994, supp: 0.013, lift: 15.174, conv: 149.288)\n",
            "{AbhinanadanVarthaman, AbhinandanReturns} -> {WelcomebackAbhinanadan} (conf: 0.911, supp: 0.013, lift: 64.199, conv: 11.082)\n",
            "{WelcomebackAbhinanadan} -> {AbhinanadanVarthaman, AbhinandanReturns} (conf: 0.930, supp: 0.013, lift: 64.199, conv: 14.023)\n"
          ],
          "name": "stdout"
        }
      ]
    },
    {
      "cell_type": "code",
      "metadata": {
        "id": "hfsK2bAMBz7-"
      },
      "source": [
        "dict = {}\n",
        "count = 0\n",
        "for i in rules:\n",
        "  # print(i.lhs)\n",
        "  # print(dict)\n",
        "  stat = False\n",
        "\n",
        "  for word in i.lhs:\n",
        "    for key in dict:\n",
        "      # print(word)\n",
        "      # print(dict)\n",
        "\n",
        "      if word.lower() in dict[key]:\n",
        "        # print(\"in lhs\")\n",
        "        for word1 in i.lhs:\n",
        "          dict[key].append(word1.lower())\n",
        "        for word1 in i.rhs:\n",
        "          dict[key].append(word1.lower())\n",
        "        dict[key] = list(set(dict[key]))\n",
        "        stat = True\n",
        "        break\n",
        "    if stat != True:\n",
        "\n",
        "      for word in i.rhs:\n",
        "        for key in dict:\n",
        "          if word.lower() in dict[key]:\n",
        "            # print(\"in rhs\")\n",
        "            # print(word)\n",
        "            for word1 in i.rhs:\n",
        "              dict[key].append(word1.lower())\n",
        "            for word1 in i.lhs:\n",
        "              dict[key].append(word1.lower())\n",
        "            dict[key] = list(set(dict[key]))\n",
        "            stat = True\n",
        "            break\n",
        "      break\n",
        "    else:\n",
        "      break\n",
        "  if stat != True:\n",
        "    new = []\n",
        "    for word1 in i.lhs:\n",
        "      new.append(word1.lower())\n",
        "    for word1 in i.rhs:\n",
        "      new.append(word1.lower())\n",
        "    new = list(set(new))\n",
        "    dict[str(count)] = new\n",
        "    count += 1\n",
        "\n",
        "\n",
        "\n",
        "\n",
        "\n"
      ],
      "execution_count": null,
      "outputs": []
    },
    {
      "cell_type": "code",
      "metadata": {
        "colab": {
          "base_uri": "https://localhost:8080/"
        },
        "id": "PX3DJcty4ZF3",
        "outputId": "f8c83e2d-9f2b-47f8-edbb-80413ca6e3f3"
      },
      "source": [
        "dict"
      ],
      "execution_count": null,
      "outputs": [
        {
          "output_type": "execute_result",
          "data": {
            "text/plain": [
              "{'0': ['crpfjawans',\n",
              "  'kashmirterrorattack',\n",
              "  'pulwama',\n",
              "  'pulwamaattack',\n",
              "  'pulwamaterrorattack',\n",
              "  'crpf',\n",
              "  'standwithforces'],\n",
              " '1': ['india', 'pakistan', 'kashmir'],\n",
              " '2': ['bringbackabhinandan',\n",
              "  'saynototerrorism',\n",
              "  'saynotowar',\n",
              "  'peace',\n",
              "  'pakistanstrikesback',\n",
              "  'abhinandan',\n",
              "  'pakistanarmyzindabad'],\n",
              " '3': ['abhinanadanvarthaman', 'abhinandanreturns', 'welcomebackabhinanadan'],\n",
              " '4': ['gobackmodi', 'welcomebackabhinandan']}"
            ]
          },
          "metadata": {
            "tags": []
          },
          "execution_count": 43
        }
      ]
    },
    {
      "cell_type": "code",
      "metadata": {
        "id": "0-p6-3c4ABQp"
      },
      "source": [
        "with open(\"hashtag_clusters.json\",\"w\") as file:\n",
        "  json.dump(dict, file)"
      ],
      "execution_count": null,
      "outputs": []
    },
    {
      "cell_type": "code",
      "metadata": {
        "id": "C-GoqORoFJDz"
      },
      "source": [
        "with open(\"hashtag_clusters.json\",\"r\") as file:\n",
        "  dict = json.load(file)"
      ],
      "execution_count": null,
      "outputs": []
    },
    {
      "cell_type": "code",
      "metadata": {
        "colab": {
          "base_uri": "https://localhost:8080/"
        },
        "id": "XpETR1kpFRUe",
        "outputId": "b941420f-ee84-4374-88c3-edc32bf1947e"
      },
      "source": [
        "dict"
      ],
      "execution_count": null,
      "outputs": [
        {
          "output_type": "execute_result",
          "data": {
            "text/plain": [
              "{'0': ['PulwamaTerrorAttack',\n",
              "  'CRPF',\n",
              "  'KashmirTerrorAttack',\n",
              "  'CRPFJawans',\n",
              "  'PulwamaAttack',\n",
              "  'Pulwama'],\n",
              " '1': ['Kashmir', 'India', 'Pakistan'],\n",
              " '2': ['standwithforces', 'pulwama'],\n",
              " '3': ['Peace',\n",
              "  'PakistanStrikesBack',\n",
              "  'PakistanArmyZindabad',\n",
              "  'SayNoToTerrorism',\n",
              "  'SayNoToWar',\n",
              "  'Abhinandan',\n",
              "  'BringBackAbhinandan'],\n",
              " '4': ['AbhinanadanVarthaman', 'WelcomebackAbhinanadan', 'AbhinandanReturns'],\n",
              " '5': ['WelcomeBackAbhinandan', 'GoBackModi']}"
            ]
          },
          "metadata": {
            "tags": []
          },
          "execution_count": 47
        }
      ]
    },
    {
      "cell_type": "code",
      "metadata": {
        "id": "dgQpS6caFl6f"
      },
      "source": [
        "import numpy as np\n",
        "\n",
        "clust = {\n",
        "\n",
        "}\n",
        "for j in range(1,15):\n",
        "  f = open(\"pulwama\"+ str(j) +\".json\")\n",
        "  data = json.load(f)\n",
        "  for i in data:\n",
        "    # try:\n",
        "      # ht = []\n",
        "      # um = []\n",
        "      # if j not in user_data[i[\"user\"][\"id\"][\"events\"]]:\n",
        "      #   print(j)\n",
        "      #   user_data[i[\"user\"][\"id\"][\"events\"]].append(j)\n",
        "      # for h in i[\"entities\"][\"hashtags\"]:\n",
        "      #   ht.append(h[\"text\"])\n",
        "      # for u in i[\"entities\"][\"user_mentions\"]:\n",
        "      #   um.append({\"name\": u[\"name\"], \"screen_name\":u[\"screen_name\"], \"id\" : u[\"id\"]})\n",
        "      # tweet = {\n",
        "      #     \"created_at\" : i[\"created_at\"],\n",
        "      #     \"tweet_id\" : i[\"id\"],\n",
        "      #     \"text\" : i[\"text\"],\n",
        "      #     \"hashtags\" : ht,\n",
        "      #     \"user_mentions\": um,\n",
        "      #     \"retweet_count\":i[\"retweet_count\"],\n",
        "      #     \"likes\":i[\"favorite_count\"],\n",
        "      #     }\n",
        "      # user_data[i[\"user\"][\"id\"]][\"tweets\"].append(tweet)\n",
        "    # b = []\n",
        "    count = np.zeros(6)\n",
        "    for h in i[\"entities\"][\"hashtags\"]:\n",
        "      for key in range(len(dict)):\n",
        "        if h[\"text\"].lower() in dict[str(key)]:\n",
        "          count[key] += 1\n",
        "          break\n",
        "    index = np.argmax(count)\n",
        "    if count[index] != 0:\n",
        "      try:\n",
        "        clust[str(index)].append(i[\"text\"])\n",
        "      except:\n",
        "        clust[str(index)] = [i[\"text\"]]\n",
        "\n",
        "\n",
        "\n",
        "    # except:\n",
        "    #   dicti = {}\n",
        "    #   dicti[\"name\"] = i[\"user\"][\"name\"]\n",
        "    #   dicti[\"desc\"] = i[\"user\"][\"description\"]\n",
        "    #   dicti[\"followers\"] = i[\"user\"][\"followers_count\"]\n",
        "    #   dicti[\"friends\"] = i[\"user\"][\"friends_count\"]\n",
        "    #   dicti[\"created_at\"] = i[\"user\"][\"created_at\"]\n",
        "    #   dicti[\"favourites_count\"] = i[\"user\"][\"favourites_count\"]\n",
        "    #   dicti[\"location\"] = i[\"user\"][\"location\"]\n",
        "    #   dicti[\"verified\"] = i[\"user\"][\"verified\"]\n",
        "    #   ht = []\n",
        "    #   um = []\n",
        "    #   # dicti[\"events\"] = [j]\n",
        "    #   for h in i[\"entities\"][\"hashtags\"]:\n",
        "    #     ht.append(h[\"text\"])\n",
        "    #   for u in i[\"entities\"][\"user_mentions\"]:\n",
        "    #     um.append({\"name\": u[\"name\"], \"screen_name\":u[\"screen_name\"], \"id\" : u[\"id\"]})\n",
        "\n",
        "    #   dicti[\"tweets\"] = [{\n",
        "    #       \"created_at\" : i[\"created_at\"],\n",
        "    #       \"tweet_id\" : i[\"id\"],\n",
        "    #       \"text\" : i[\"text\"],\n",
        "    #       \"hashtags\" : ht,\n",
        "    #       \"user_mentions\": um,\n",
        "    #       \"retweet_count\":i[\"retweet_count\"],\n",
        "    #       \"likes\":i[\"favorite_count\"]\n",
        "    #       }]\n",
        "\n",
        "    #   user_data[i[\"user\"][\"id\"]] = dicti\n",
        "  f.close()"
      ],
      "execution_count": null,
      "outputs": []
    },
    {
      "cell_type": "code",
      "metadata": {
        "colab": {
          "base_uri": "https://localhost:8080/"
        },
        "id": "1c03EkiKImXg",
        "outputId": "6371a1bb-5d29-4f7f-c786-38a1a07f328e"
      },
      "source": [
        "total = 0\n",
        "for i in clust:\n",
        "  print(i, len(clust[str(i)]))\n",
        "  total += len(clust[str(i)])\n",
        "print(total)"
      ],
      "execution_count": null,
      "outputs": [
        {
          "output_type": "stream",
          "text": [
            "0 26070\n",
            "4 3409\n",
            "2 49921\n",
            "3 9016\n",
            "1 5959\n",
            "94375\n"
          ],
          "name": "stdout"
        }
      ]
    },
    {
      "cell_type": "code",
      "metadata": {
        "id": "4oiZ6-saL_RI"
      },
      "source": [
        "with open(\"final_tweet_cluster.json\",\"w\") as file:\n",
        "  json.dump(clust, file)"
      ],
      "execution_count": null,
      "outputs": []
    },
    {
      "cell_type": "code",
      "metadata": {
        "colab": {
          "base_uri": "https://localhost:8080/"
        },
        "id": "R6swdxupP6q-",
        "outputId": "042ea9d6-71ca-4acc-e0e8-540252f2afc1"
      },
      "source": [
        "for i in clust:\n",
        "  print(i)\n",
        "  for ii in range(0,5):\n",
        "    print(clust[i][ii])"
      ],
      "execution_count": null,
      "outputs": [
        {
          "output_type": "stream",
          "text": [
            "0\n",
            "No more bloodshed, it's time to make them bleed.\n",
            "#Pulwama #PulwamaAttack #KashmirTerrorAttack \n",
            "#KashmirAttack https://t.co/NwnT42DKyC\n",
            "RT @knowthenation: Our thoughts go out to the families of the brave martyrs who lost their lives in the #KashmirTerrorAttack. Their sacrifi…\n",
            "RT @Dibya_Pratim95: RIP my dear neighbor Ananta Da! I salute your selfless sacrificed. \n",
            "#Pulwama https://t.co/5Pasxv4OvT\n",
            "RT @BDUTT: Word from Srinagar is that number of soldiers martyred in #Pulwama is feared to be much higher than we thought earlier. Shudderi…\n",
            "@INCIndia @RahulGandhi इसे क्या कहोगे ????????\n",
            "#AbBadlaLo \n",
            "#पुलवामा_आतंकी_हमला \n",
            "#Pulwama \n",
            "#PulwamaAttack… https://t.co/GPgKOITyCm\n",
            "4\n",
            "RT @ippatel: MFN Status to #Pakistan withdrawn by Bharat after Pulwama Islamic attack.\n",
            "\n",
            "US gives out Advisory to its citizens to avoid trav…\n",
            "RT @ippatel: MFN Status to #Pakistan withdrawn by Bharat after Pulwama Islamic attack.\n",
            "\n",
            "US gives out Advisory to its citizens to avoid trav…\n",
            "RT @ippatel: MFN Status to #Pakistan withdrawn by Bharat after Pulwama Islamic attack.\n",
            "\n",
            "US gives out Advisory to its citizens to avoid trav…\n",
            "RT @ippatel: MFN Status to #Pakistan withdrawn by Bharat after Pulwama Islamic attack.\n",
            "\n",
            "US gives out Advisory to its citizens to avoid trav…\n",
            "RT @ippatel: MFN Status to #Pakistan withdrawn by Bharat after Pulwama Islamic attack.\n",
            "\n",
            "US gives out Advisory to its citizens to avoid trav…\n",
            "2\n",
            "#Peace अर्थात #शांति की बात करने वाले #उदारवादी_धर्मनिरपेक्ष_छद्मबुद्धिजीवी सुन लें\n",
            "\n",
            "We indians will not settle for… https://t.co/A8whw75KLS\n",
            "RT @arpita_dg: We are all angry &amp; heartbroken. \n",
            "But if we really care for our soldiers we must support #Peace\n",
            "Because every time there is a…\n",
            "RT @arpita_dg: We are all angry &amp; heartbroken. \n",
            "But if we really care for our soldiers we must support #Peace\n",
            "Because every time there is a…\n",
            "RT @arpita_dg: We are all angry &amp; heartbroken. \n",
            "But if we really care for our soldiers we must support #Peace\n",
            "Because every time there is a…\n",
            "RT @ibtimes_india: Give peace a chance, will act but first provide evidence on Pulwama: Imran Khan tells PM Modi \n",
            "\n",
            "#ImranKhan #Peace \n",
            "https…\n",
            "3\n",
            "RT @naralokesh: Dressed in black to protest the visit of @narendramodi to Andhra Pradesh. \n",
            "\n",
            "#GoBackModi \n",
            "#ModiIsaMistake https://t.co/LQvP9…\n",
            "RT @naralokesh: Dressed in black to protest the visit of @narendramodi to Andhra Pradesh. \n",
            "\n",
            "#GoBackModi \n",
            "#ModiIsaMistake https://t.co/LQvP9…\n",
            "RT @naralokesh: Dressed in black to protest the visit of @narendramodi to Andhra Pradesh. \n",
            "\n",
            "#GoBackModi \n",
            "#ModiIsaMistake https://t.co/LQvP9…\n",
            "RT @naralokesh: Dressed in black to protest the visit of @narendramodi to Andhra Pradesh. \n",
            "\n",
            "#GoBackModi \n",
            "#ModiIsaMistake https://t.co/LQvP9…\n",
            "RT @naralokesh: Dressed in black to protest the visit of @narendramodi to Andhra Pradesh. \n",
            "\n",
            "#GoBackModi \n",
            "#ModiIsaMistake https://t.co/LQvP9…\n",
            "1\n",
            "Welcome back Indian hero #AbhinandanReturns \n",
            "@asadowaisi @KTRTRS\n",
            "RT @SumraizAhmad: Ex Indian Raw Chief now supports Imran Khan Long Live Pakistan\n",
            "\n",
            "#AbhinandanReturns\n",
            "#AzadKashmir\n",
            "#IndianMediaExposed\n",
            "#Kash…\n",
            "RT @SirJadeja: Our Tiger is back after biting Pakistan in Pakistan. 👏🙏🇮🇳#WelcomeHomeAbhinandan #AbhinandanReturns https://t.co/3GYwnSHlTZ\n",
            "RT @BreakingTUBE: अगर अभिनंदन को बिना शर्त रिहा न करता पाक तो बड़ी कर्रवाई की तैयारी में थी मोदी सरकार @narendramodi #AbhinanadanVarthaman…\n",
            "#Indians must watch this video:\n",
            "\n",
            "https://t.co/ONhFtGBVor\n",
            "\n",
            "#PulwamaRevenge \n",
            "#PulwanaAttack \n",
            "#AbhinandanReturns… https://t.co/kaI3c9Oymx\n"
          ],
          "name": "stdout"
        }
      ]
    },
    {
      "cell_type": "code",
      "metadata": {
        "id": "WC4f0OzW8uYP"
      },
      "source": [
        "import nltk\n",
        "import seaborn\n",
        "import matplotlib.colors as colors\n",
        "import matplotlib.pyplot as plt\n",
        "all_words=nltk.FreqDist(ht)\n",
        "plt.figure(figsize=(20,20))\n",
        "\n",
        "all_words.plot(20,cumulative=True)"
      ],
      "execution_count": null,
      "outputs": []
    },
    {
      "cell_type": "code",
      "metadata": {
        "id": "QmpMVnyF853a"
      },
      "source": [
        "all_words"
      ],
      "execution_count": null,
      "outputs": []
    },
    {
      "cell_type": "code",
      "metadata": {
        "id": "MnIvvU2O9a3H"
      },
      "source": [],
      "execution_count": null,
      "outputs": []
    }
  ]
}